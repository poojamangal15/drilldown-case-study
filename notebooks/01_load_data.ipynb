{
 "cells": [
  {
   "cell_type": "code",
   "execution_count": null,
   "id": "9a6bd370",
   "metadata": {
    "vscode": {
     "languageId": "plaintext"
    }
   },
   "outputs": [],
   "source": [
    "import duckdb\n",
    "\n",
    "con = duckdb.connect(\"drilldown.duckdb\")\n",
    "con.execute(\"INSTALL excel; LOAD excel;\")\n",
    "\n",
    "sheets = [\"Companies\",\"Contacts\",\"Products\",\"Deals\",\"Invoices\",\"Invoice lines\"]\n",
    "for s in sheets:\n",
    "    con.execute(f\"\"\"\n",
    "        CREATE OR REPLACE TABLE raw_{s.lower().replace(' ','_')} AS\n",
    "        SELECT * FROM read_excel('data/Drilldown_case.xlsx', sheet='{s}');\n",
    "    \"\"\")\n"
   ]
  }
 ],
 "metadata": {
  "language_info": {
   "name": "python"
  }
 },
 "nbformat": 4,
 "nbformat_minor": 5
}
